{
  "nbformat": 4,
  "nbformat_minor": 0,
  "metadata": {
    "colab": {
      "provenance": [],
      "authorship_tag": "ABX9TyPXp0v3KIBwYJR/6gOIjyEX",
      "include_colab_link": true
    },
    "kernelspec": {
      "name": "python3",
      "display_name": "Python 3"
    },
    "language_info": {
      "name": "python"
    },
    "accelerator": "GPU",
    "gpuClass": "standard"
  },
  "cells": [
    {
      "cell_type": "markdown",
      "metadata": {
        "id": "view-in-github",
        "colab_type": "text"
      },
      "source": [
        "<a href=\"https://colab.research.google.com/github/ParthTagalpallewar/Trained-Ai-Models/blob/main/learning_training_model.ipynb\" target=\"_parent\"><img src=\"https://colab.research.google.com/assets/colab-badge.svg\" alt=\"Open In Colab\"/></a>"
      ]
    },
    {
      "cell_type": "code",
      "source": [
        "!pip install -q tflite-model-maker\n",
        "!pip install -q pycocotools\n",
        "!pip install -q tflite-support"
      ],
      "metadata": {
        "id": "kWqjlMwKpa37"
      },
      "execution_count": 6,
      "outputs": []
    },
    {
      "cell_type": "code",
      "source": [
        "import numpy as np\n",
        "import os\n",
        "\n",
        "from tflite_model_maker.config import ExportFormat\n",
        "from tflite_model_maker import model_spec\n",
        "from tflite_model_maker import object_detector\n",
        "\n",
        "import tensorflow as tf\n",
        "assert tf.__version__.startswith('2')\n",
        "\n",
        "tf.get_logger().setLevel('ERROR')\n",
        "from absl import logging\n",
        "logging.set_verbosity(logging.ERROR)\n",
        "#inet 10.10.13.9  netmask 255.255.248.0  broadcast 10.10.15.255\n"
      ],
      "metadata": {
        "id": "mvZRyjM6refK"
      },
      "execution_count": 9,
      "outputs": []
    },
    {
      "cell_type": "code",
      "source": [],
      "metadata": {
        "id": "YAdVFLjG5dq0"
      },
      "execution_count": null,
      "outputs": []
    },
    {
      "cell_type": "code",
      "source": [
        "spec = model_spec.get('efficientdet_lite2')"
      ],
      "metadata": {
        "id": "u-CCUF1fsZ-d"
      },
      "execution_count": 10,
      "outputs": []
    },
    {
      "cell_type": "code",
      "source": [
        "train_data, validation_data, test_data = object_detector.DataLoader.from_csv('gs://cloud-ml-data/img/openimage/csv/salads_ml_use.csv')"
      ],
      "metadata": {
        "id": "y4iJ0SyXsiEl"
      },
      "execution_count": 11,
      "outputs": []
    },
    {
      "cell_type": "code",
      "source": [
        "model = object_detector.create(train_data, model_spec=spec, batch_size=8, train_whole_model=True, validation_data=validation_data)"
      ],
      "metadata": {
        "colab": {
          "base_uri": "https://localhost:8080/"
        },
        "id": "fCIme4MLvycQ",
        "outputId": "90d8686b-ded0-43bc-9bcd-94013f652d43"
      },
      "execution_count": 12,
      "outputs": [
        {
          "output_type": "stream",
          "name": "stdout",
          "text": [
            "Epoch 1/50\n",
            "21/21 [==============================] - 100s 2s/step - det_loss: 1.7488 - cls_loss: 1.1341 - box_loss: 0.0123 - reg_l2_loss: 0.0764 - loss: 1.8252 - learning_rate: 0.0090 - gradient_norm: 0.7078 - val_det_loss: 1.6597 - val_cls_loss: 1.1014 - val_box_loss: 0.0112 - val_reg_l2_loss: 0.0764 - val_loss: 1.7361\n",
            "Epoch 2/50\n",
            "21/21 [==============================] - 38s 2s/step - det_loss: 1.5827 - cls_loss: 1.0750 - box_loss: 0.0102 - reg_l2_loss: 0.0764 - loss: 1.6591 - learning_rate: 0.0100 - gradient_norm: 1.0150 - val_det_loss: 1.5125 - val_cls_loss: 0.9926 - val_box_loss: 0.0104 - val_reg_l2_loss: 0.0764 - val_loss: 1.5889\n",
            "Epoch 3/50\n",
            "21/21 [==============================] - 44s 2s/step - det_loss: 1.3876 - cls_loss: 0.9347 - box_loss: 0.0091 - reg_l2_loss: 0.0764 - loss: 1.4640 - learning_rate: 0.0099 - gradient_norm: 1.7211 - val_det_loss: 1.2845 - val_cls_loss: 0.7901 - val_box_loss: 0.0099 - val_reg_l2_loss: 0.0764 - val_loss: 1.3609\n",
            "Epoch 4/50\n",
            "21/21 [==============================] - 41s 2s/step - det_loss: 1.1750 - cls_loss: 0.7795 - box_loss: 0.0079 - reg_l2_loss: 0.0764 - loss: 1.2515 - learning_rate: 0.0099 - gradient_norm: 2.2656 - val_det_loss: 1.1759 - val_cls_loss: 0.7042 - val_box_loss: 0.0094 - val_reg_l2_loss: 0.0764 - val_loss: 1.2523\n",
            "Epoch 5/50\n",
            "21/21 [==============================] - 59s 3s/step - det_loss: 1.0885 - cls_loss: 0.7209 - box_loss: 0.0074 - reg_l2_loss: 0.0765 - loss: 1.1650 - learning_rate: 0.0098 - gradient_norm: 2.2039 - val_det_loss: 1.1126 - val_cls_loss: 0.6622 - val_box_loss: 0.0090 - val_reg_l2_loss: 0.0765 - val_loss: 1.1891\n",
            "Epoch 6/50\n",
            "21/21 [==============================] - 36s 2s/step - det_loss: 0.9778 - cls_loss: 0.6582 - box_loss: 0.0064 - reg_l2_loss: 0.0765 - loss: 1.0543 - learning_rate: 0.0097 - gradient_norm: 2.2000 - val_det_loss: 1.1003 - val_cls_loss: 0.6579 - val_box_loss: 0.0088 - val_reg_l2_loss: 0.0765 - val_loss: 1.1767\n",
            "Epoch 7/50\n",
            "21/21 [==============================] - 43s 2s/step - det_loss: 0.9253 - cls_loss: 0.6261 - box_loss: 0.0060 - reg_l2_loss: 0.0765 - loss: 1.0018 - learning_rate: 0.0096 - gradient_norm: 2.3581 - val_det_loss: 1.1073 - val_cls_loss: 0.6870 - val_box_loss: 0.0084 - val_reg_l2_loss: 0.0765 - val_loss: 1.1838\n",
            "Epoch 8/50\n",
            "21/21 [==============================] - 39s 2s/step - det_loss: 0.9194 - cls_loss: 0.6154 - box_loss: 0.0061 - reg_l2_loss: 0.0765 - loss: 0.9959 - learning_rate: 0.0094 - gradient_norm: 2.3626 - val_det_loss: 1.0006 - val_cls_loss: 0.6199 - val_box_loss: 0.0076 - val_reg_l2_loss: 0.0765 - val_loss: 1.0771\n",
            "Epoch 9/50\n",
            "21/21 [==============================] - 42s 2s/step - det_loss: 0.8539 - cls_loss: 0.5822 - box_loss: 0.0054 - reg_l2_loss: 0.0765 - loss: 0.9304 - learning_rate: 0.0093 - gradient_norm: 2.3460 - val_det_loss: 0.9955 - val_cls_loss: 0.6174 - val_box_loss: 0.0076 - val_reg_l2_loss: 0.0765 - val_loss: 1.0721\n",
            "Epoch 10/50\n",
            "21/21 [==============================] - 48s 2s/step - det_loss: 0.8645 - cls_loss: 0.5810 - box_loss: 0.0057 - reg_l2_loss: 0.0765 - loss: 0.9410 - learning_rate: 0.0091 - gradient_norm: 2.5729 - val_det_loss: 0.9281 - val_cls_loss: 0.5647 - val_box_loss: 0.0073 - val_reg_l2_loss: 0.0765 - val_loss: 1.0047\n",
            "Epoch 11/50\n",
            "21/21 [==============================] - 41s 2s/step - det_loss: 0.7901 - cls_loss: 0.5351 - box_loss: 0.0051 - reg_l2_loss: 0.0765 - loss: 0.8666 - learning_rate: 0.0089 - gradient_norm: 2.4098 - val_det_loss: 0.9194 - val_cls_loss: 0.5621 - val_box_loss: 0.0071 - val_reg_l2_loss: 0.0765 - val_loss: 0.9960\n",
            "Epoch 12/50\n",
            "21/21 [==============================] - 42s 2s/step - det_loss: 0.7646 - cls_loss: 0.5149 - box_loss: 0.0050 - reg_l2_loss: 0.0766 - loss: 0.8411 - learning_rate: 0.0087 - gradient_norm: 2.4489 - val_det_loss: 0.9879 - val_cls_loss: 0.6273 - val_box_loss: 0.0072 - val_reg_l2_loss: 0.0766 - val_loss: 1.0644\n",
            "Epoch 13/50\n",
            "21/21 [==============================] - 43s 2s/step - det_loss: 0.7723 - cls_loss: 0.5213 - box_loss: 0.0050 - reg_l2_loss: 0.0766 - loss: 0.8489 - learning_rate: 0.0085 - gradient_norm: 2.6295 - val_det_loss: 1.0361 - val_cls_loss: 0.6607 - val_box_loss: 0.0075 - val_reg_l2_loss: 0.0766 - val_loss: 1.1127\n",
            "Epoch 14/50\n",
            "21/21 [==============================] - 41s 2s/step - det_loss: 0.7554 - cls_loss: 0.5120 - box_loss: 0.0049 - reg_l2_loss: 0.0766 - loss: 0.8320 - learning_rate: 0.0082 - gradient_norm: 2.6092 - val_det_loss: 0.8881 - val_cls_loss: 0.5510 - val_box_loss: 0.0067 - val_reg_l2_loss: 0.0766 - val_loss: 0.9647\n",
            "Epoch 15/50\n",
            "21/21 [==============================] - 52s 3s/step - det_loss: 0.7128 - cls_loss: 0.4816 - box_loss: 0.0046 - reg_l2_loss: 0.0766 - loss: 0.7894 - learning_rate: 0.0080 - gradient_norm: 2.4904 - val_det_loss: 0.9116 - val_cls_loss: 0.5501 - val_box_loss: 0.0072 - val_reg_l2_loss: 0.0766 - val_loss: 0.9882\n",
            "Epoch 16/50\n",
            "21/21 [==============================] - 36s 2s/step - det_loss: 0.7203 - cls_loss: 0.4846 - box_loss: 0.0047 - reg_l2_loss: 0.0766 - loss: 0.7969 - learning_rate: 0.0077 - gradient_norm: 2.7594 - val_det_loss: 0.9127 - val_cls_loss: 0.5767 - val_box_loss: 0.0067 - val_reg_l2_loss: 0.0766 - val_loss: 0.9893\n",
            "Epoch 17/50\n",
            "21/21 [==============================] - 39s 2s/step - det_loss: 0.7237 - cls_loss: 0.4823 - box_loss: 0.0048 - reg_l2_loss: 0.0766 - loss: 0.8003 - learning_rate: 0.0075 - gradient_norm: 2.9744 - val_det_loss: 0.9426 - val_cls_loss: 0.6005 - val_box_loss: 0.0068 - val_reg_l2_loss: 0.0766 - val_loss: 1.0192\n",
            "Epoch 18/50\n",
            "21/21 [==============================] - 47s 2s/step - det_loss: 0.6784 - cls_loss: 0.4567 - box_loss: 0.0044 - reg_l2_loss: 0.0766 - loss: 0.7550 - learning_rate: 0.0072 - gradient_norm: 2.6487 - val_det_loss: 0.9405 - val_cls_loss: 0.6229 - val_box_loss: 0.0064 - val_reg_l2_loss: 0.0766 - val_loss: 1.0171\n",
            "Epoch 19/50\n",
            "21/21 [==============================] - 38s 2s/step - det_loss: 0.6665 - cls_loss: 0.4489 - box_loss: 0.0044 - reg_l2_loss: 0.0766 - loss: 0.7431 - learning_rate: 0.0069 - gradient_norm: 2.7556 - val_det_loss: 0.9149 - val_cls_loss: 0.6033 - val_box_loss: 0.0062 - val_reg_l2_loss: 0.0766 - val_loss: 0.9915\n",
            "Epoch 20/50\n",
            "21/21 [==============================] - 52s 3s/step - det_loss: 0.6510 - cls_loss: 0.4399 - box_loss: 0.0042 - reg_l2_loss: 0.0766 - loss: 0.7277 - learning_rate: 0.0066 - gradient_norm: 2.7839 - val_det_loss: 0.9368 - val_cls_loss: 0.6120 - val_box_loss: 0.0065 - val_reg_l2_loss: 0.0766 - val_loss: 1.0135\n",
            "Epoch 21/50\n",
            "21/21 [==============================] - 35s 2s/step - det_loss: 0.6056 - cls_loss: 0.4072 - box_loss: 0.0040 - reg_l2_loss: 0.0767 - loss: 0.6822 - learning_rate: 0.0063 - gradient_norm: 2.6661 - val_det_loss: 0.9371 - val_cls_loss: 0.5956 - val_box_loss: 0.0068 - val_reg_l2_loss: 0.0767 - val_loss: 1.0137\n",
            "Epoch 22/50\n",
            "21/21 [==============================] - 47s 2s/step - det_loss: 0.6258 - cls_loss: 0.4187 - box_loss: 0.0041 - reg_l2_loss: 0.0767 - loss: 0.7025 - learning_rate: 0.0060 - gradient_norm: 2.7457 - val_det_loss: 0.9474 - val_cls_loss: 0.6124 - val_box_loss: 0.0067 - val_reg_l2_loss: 0.0767 - val_loss: 1.0240\n",
            "Epoch 23/50\n",
            "21/21 [==============================] - 40s 2s/step - det_loss: 0.6409 - cls_loss: 0.4287 - box_loss: 0.0042 - reg_l2_loss: 0.0767 - loss: 0.7176 - learning_rate: 0.0056 - gradient_norm: 2.6809 - val_det_loss: 0.9060 - val_cls_loss: 0.5882 - val_box_loss: 0.0064 - val_reg_l2_loss: 0.0767 - val_loss: 0.9826\n",
            "Epoch 24/50\n",
            "21/21 [==============================] - 44s 2s/step - det_loss: 0.6110 - cls_loss: 0.4083 - box_loss: 0.0041 - reg_l2_loss: 0.0767 - loss: 0.6876 - learning_rate: 0.0053 - gradient_norm: 2.6877 - val_det_loss: 0.8545 - val_cls_loss: 0.5325 - val_box_loss: 0.0064 - val_reg_l2_loss: 0.0767 - val_loss: 0.9311\n",
            "Epoch 25/50\n",
            "21/21 [==============================] - 51s 3s/step - det_loss: 0.6118 - cls_loss: 0.4115 - box_loss: 0.0040 - reg_l2_loss: 0.0767 - loss: 0.6885 - learning_rate: 0.0050 - gradient_norm: 2.9968 - val_det_loss: 0.9037 - val_cls_loss: 0.5613 - val_box_loss: 0.0068 - val_reg_l2_loss: 0.0767 - val_loss: 0.9804\n",
            "Epoch 26/50\n",
            "21/21 [==============================] - 37s 2s/step - det_loss: 0.5910 - cls_loss: 0.3963 - box_loss: 0.0039 - reg_l2_loss: 0.0767 - loss: 0.6677 - learning_rate: 0.0047 - gradient_norm: 2.7681 - val_det_loss: 0.9299 - val_cls_loss: 0.5863 - val_box_loss: 0.0069 - val_reg_l2_loss: 0.0767 - val_loss: 1.0066\n",
            "Epoch 27/50\n",
            "21/21 [==============================] - 39s 2s/step - det_loss: 0.5974 - cls_loss: 0.4049 - box_loss: 0.0039 - reg_l2_loss: 0.0767 - loss: 0.6741 - learning_rate: 0.0044 - gradient_norm: 2.9187 - val_det_loss: 0.8736 - val_cls_loss: 0.5445 - val_box_loss: 0.0066 - val_reg_l2_loss: 0.0767 - val_loss: 0.9503\n",
            "Epoch 28/50\n",
            "21/21 [==============================] - 41s 2s/step - det_loss: 0.5845 - cls_loss: 0.3912 - box_loss: 0.0039 - reg_l2_loss: 0.0767 - loss: 0.6612 - learning_rate: 0.0040 - gradient_norm: 2.6934 - val_det_loss: 0.8628 - val_cls_loss: 0.5416 - val_box_loss: 0.0064 - val_reg_l2_loss: 0.0767 - val_loss: 0.9395\n",
            "Epoch 29/50\n",
            "21/21 [==============================] - 44s 2s/step - det_loss: 0.5718 - cls_loss: 0.3831 - box_loss: 0.0038 - reg_l2_loss: 0.0767 - loss: 0.6485 - learning_rate: 0.0037 - gradient_norm: 2.6896 - val_det_loss: 0.9256 - val_cls_loss: 0.6114 - val_box_loss: 0.0063 - val_reg_l2_loss: 0.0767 - val_loss: 1.0023\n",
            "Epoch 30/50\n",
            "21/21 [==============================] - 49s 2s/step - det_loss: 0.5735 - cls_loss: 0.3831 - box_loss: 0.0038 - reg_l2_loss: 0.0767 - loss: 0.6502 - learning_rate: 0.0034 - gradient_norm: 3.0154 - val_det_loss: 0.9126 - val_cls_loss: 0.6008 - val_box_loss: 0.0062 - val_reg_l2_loss: 0.0767 - val_loss: 0.9893\n",
            "Epoch 31/50\n",
            "21/21 [==============================] - 36s 2s/step - det_loss: 0.5850 - cls_loss: 0.3924 - box_loss: 0.0039 - reg_l2_loss: 0.0767 - loss: 0.6617 - learning_rate: 0.0031 - gradient_norm: 2.8892 - val_det_loss: 0.8769 - val_cls_loss: 0.5719 - val_box_loss: 0.0061 - val_reg_l2_loss: 0.0767 - val_loss: 0.9536\n",
            "Epoch 32/50\n",
            "21/21 [==============================] - 43s 2s/step - det_loss: 0.5420 - cls_loss: 0.3676 - box_loss: 0.0035 - reg_l2_loss: 0.0767 - loss: 0.6187 - learning_rate: 0.0028 - gradient_norm: 2.8174 - val_det_loss: 0.8826 - val_cls_loss: 0.5690 - val_box_loss: 0.0063 - val_reg_l2_loss: 0.0767 - val_loss: 0.9593\n",
            "Epoch 33/50\n",
            "21/21 [==============================] - 45s 2s/step - det_loss: 0.5793 - cls_loss: 0.3914 - box_loss: 0.0038 - reg_l2_loss: 0.0767 - loss: 0.6560 - learning_rate: 0.0025 - gradient_norm: 3.1552 - val_det_loss: 0.9160 - val_cls_loss: 0.5907 - val_box_loss: 0.0065 - val_reg_l2_loss: 0.0767 - val_loss: 0.9927\n",
            "Epoch 34/50\n",
            "21/21 [==============================] - 39s 2s/step - det_loss: 0.5229 - cls_loss: 0.3480 - box_loss: 0.0035 - reg_l2_loss: 0.0767 - loss: 0.5996 - learning_rate: 0.0023 - gradient_norm: 2.4135 - val_det_loss: 0.9232 - val_cls_loss: 0.6077 - val_box_loss: 0.0063 - val_reg_l2_loss: 0.0767 - val_loss: 0.9999\n",
            "Epoch 35/50\n",
            "21/21 [==============================] - 50s 2s/step - det_loss: 0.5509 - cls_loss: 0.3667 - box_loss: 0.0037 - reg_l2_loss: 0.0767 - loss: 0.6276 - learning_rate: 0.0020 - gradient_norm: 2.6359 - val_det_loss: 0.8875 - val_cls_loss: 0.5767 - val_box_loss: 0.0062 - val_reg_l2_loss: 0.0767 - val_loss: 0.9642\n",
            "Epoch 36/50\n",
            "21/21 [==============================] - 39s 2s/step - det_loss: 0.5448 - cls_loss: 0.3677 - box_loss: 0.0035 - reg_l2_loss: 0.0767 - loss: 0.6215 - learning_rate: 0.0018 - gradient_norm: 2.5288 - val_det_loss: 0.8852 - val_cls_loss: 0.5737 - val_box_loss: 0.0062 - val_reg_l2_loss: 0.0767 - val_loss: 0.9619\n",
            "Epoch 37/50\n",
            "21/21 [==============================] - 44s 2s/step - det_loss: 0.5572 - cls_loss: 0.3676 - box_loss: 0.0038 - reg_l2_loss: 0.0767 - loss: 0.6339 - learning_rate: 0.0015 - gradient_norm: 2.7482 - val_det_loss: 0.8874 - val_cls_loss: 0.5721 - val_box_loss: 0.0063 - val_reg_l2_loss: 0.0767 - val_loss: 0.9641\n",
            "Epoch 38/50\n",
            "21/21 [==============================] - 39s 2s/step - det_loss: 0.5223 - cls_loss: 0.3487 - box_loss: 0.0035 - reg_l2_loss: 0.0767 - loss: 0.5990 - learning_rate: 0.0013 - gradient_norm: 2.4736 - val_det_loss: 0.8747 - val_cls_loss: 0.5567 - val_box_loss: 0.0064 - val_reg_l2_loss: 0.0767 - val_loss: 0.9514\n",
            "Epoch 39/50\n",
            "21/21 [==============================] - 42s 2s/step - det_loss: 0.5441 - cls_loss: 0.3641 - box_loss: 0.0036 - reg_l2_loss: 0.0767 - loss: 0.6208 - learning_rate: 0.0011 - gradient_norm: 2.9222 - val_det_loss: 0.8877 - val_cls_loss: 0.5671 - val_box_loss: 0.0064 - val_reg_l2_loss: 0.0767 - val_loss: 0.9644\n",
            "Epoch 40/50\n",
            "21/21 [==============================] - 54s 3s/step - det_loss: 0.5485 - cls_loss: 0.3613 - box_loss: 0.0037 - reg_l2_loss: 0.0767 - loss: 0.6252 - learning_rate: 9.0029e-04 - gradient_norm: 2.7982 - val_det_loss: 0.8856 - val_cls_loss: 0.5650 - val_box_loss: 0.0064 - val_reg_l2_loss: 0.0767 - val_loss: 0.9623\n",
            "Epoch 41/50\n",
            "21/21 [==============================] - 38s 2s/step - det_loss: 0.5170 - cls_loss: 0.3465 - box_loss: 0.0034 - reg_l2_loss: 0.0767 - loss: 0.5937 - learning_rate: 7.2543e-04 - gradient_norm: 2.6847 - val_det_loss: 0.8854 - val_cls_loss: 0.5634 - val_box_loss: 0.0064 - val_reg_l2_loss: 0.0767 - val_loss: 0.9621\n",
            "Epoch 42/50\n",
            "21/21 [==============================] - 40s 2s/step - det_loss: 0.5148 - cls_loss: 0.3504 - box_loss: 0.0033 - reg_l2_loss: 0.0767 - loss: 0.5915 - learning_rate: 5.6814e-04 - gradient_norm: 2.7022 - val_det_loss: 0.8787 - val_cls_loss: 0.5567 - val_box_loss: 0.0064 - val_reg_l2_loss: 0.0767 - val_loss: 0.9554\n",
            "Epoch 43/50\n",
            "21/21 [==============================] - 43s 2s/step - det_loss: 0.4999 - cls_loss: 0.3368 - box_loss: 0.0033 - reg_l2_loss: 0.0767 - loss: 0.5766 - learning_rate: 4.2906e-04 - gradient_norm: 2.4908 - val_det_loss: 0.8782 - val_cls_loss: 0.5552 - val_box_loss: 0.0065 - val_reg_l2_loss: 0.0767 - val_loss: 0.9549\n",
            "Epoch 44/50\n",
            "21/21 [==============================] - 42s 2s/step - det_loss: 0.5174 - cls_loss: 0.3426 - box_loss: 0.0035 - reg_l2_loss: 0.0767 - loss: 0.5941 - learning_rate: 3.0876e-04 - gradient_norm: 2.7123 - val_det_loss: 0.8888 - val_cls_loss: 0.5627 - val_box_loss: 0.0065 - val_reg_l2_loss: 0.0767 - val_loss: 0.9655\n",
            "Epoch 45/50\n",
            "21/21 [==============================] - 49s 2s/step - det_loss: 0.5276 - cls_loss: 0.3503 - box_loss: 0.0035 - reg_l2_loss: 0.0767 - loss: 0.6043 - learning_rate: 2.0774e-04 - gradient_norm: 2.5996 - val_det_loss: 0.8914 - val_cls_loss: 0.5641 - val_box_loss: 0.0065 - val_reg_l2_loss: 0.0767 - val_loss: 0.9681\n",
            "Epoch 46/50\n",
            "21/21 [==============================] - 38s 2s/step - det_loss: 0.5362 - cls_loss: 0.3592 - box_loss: 0.0035 - reg_l2_loss: 0.0767 - loss: 0.6129 - learning_rate: 1.2641e-04 - gradient_norm: 2.8251 - val_det_loss: 0.8983 - val_cls_loss: 0.5697 - val_box_loss: 0.0066 - val_reg_l2_loss: 0.0767 - val_loss: 0.9750\n",
            "Epoch 47/50\n",
            "21/21 [==============================] - 43s 2s/step - det_loss: 0.5282 - cls_loss: 0.3493 - box_loss: 0.0036 - reg_l2_loss: 0.0767 - loss: 0.6049 - learning_rate: 6.5107e-05 - gradient_norm: 2.7310 - val_det_loss: 0.8952 - val_cls_loss: 0.5677 - val_box_loss: 0.0066 - val_reg_l2_loss: 0.0767 - val_loss: 0.9719\n",
            "Epoch 48/50\n",
            "21/21 [==============================] - 41s 2s/step - det_loss: 0.5238 - cls_loss: 0.3514 - box_loss: 0.0034 - reg_l2_loss: 0.0767 - loss: 0.6005 - learning_rate: 2.4083e-05 - gradient_norm: 3.0518 - val_det_loss: 0.8868 - val_cls_loss: 0.5609 - val_box_loss: 0.0065 - val_reg_l2_loss: 0.0767 - val_loss: 0.9635\n",
            "Epoch 49/50\n",
            "21/21 [==============================] - 40s 2s/step - det_loss: 0.5213 - cls_loss: 0.3468 - box_loss: 0.0035 - reg_l2_loss: 0.0767 - loss: 0.5980 - learning_rate: 3.5074e-06 - gradient_norm: 2.8305 - val_det_loss: 0.8847 - val_cls_loss: 0.5593 - val_box_loss: 0.0065 - val_reg_l2_loss: 0.0767 - val_loss: 0.9614\n",
            "Epoch 50/50\n",
            "21/21 [==============================] - 51s 3s/step - det_loss: 0.5234 - cls_loss: 0.3501 - box_loss: 0.0035 - reg_l2_loss: 0.0767 - loss: 0.6001 - learning_rate: 3.4629e-06 - gradient_norm: 2.6498 - val_det_loss: 0.8849 - val_cls_loss: 0.5588 - val_box_loss: 0.0065 - val_reg_l2_loss: 0.0767 - val_loss: 0.9616\n"
          ]
        }
      ]
    },
    {
      "cell_type": "code",
      "source": [
        "model.evaluate(test_data)"
      ],
      "metadata": {
        "colab": {
          "base_uri": "https://localhost:8080/"
        },
        "id": "_x9XgHER5fMw",
        "outputId": "86fbb89f-14fb-4a45-dd79-56a6a4db5fee"
      },
      "execution_count": 13,
      "outputs": [
        {
          "output_type": "stream",
          "name": "stdout",
          "text": [
            "\r1/1 [==============================] - 13s 13s/step\n",
            "\n"
          ]
        },
        {
          "output_type": "execute_result",
          "data": {
            "text/plain": [
              "{'AP': 0.21934648,\n",
              " 'AP50': 0.36313406,\n",
              " 'AP75': 0.23744135,\n",
              " 'APs': -1.0,\n",
              " 'APm': 0.32926401,\n",
              " 'APl': 0.2206256,\n",
              " 'ARmax1': 0.16606617,\n",
              " 'ARmax10': 0.3644953,\n",
              " 'ARmax100': 0.41836786,\n",
              " 'ARs': -1.0,\n",
              " 'ARm': 0.53333336,\n",
              " 'ARl': 0.4155187,\n",
              " 'AP_/Baked Goods': 0.076826476,\n",
              " 'AP_/Salad': 0.5903026,\n",
              " 'AP_/Cheese': 0.20527053,\n",
              " 'AP_/Seafood': 0.004425328,\n",
              " 'AP_/Tomato': 0.21990749}"
            ]
          },
          "metadata": {},
          "execution_count": 13
        }
      ]
    },
    {
      "cell_type": "code",
      "source": [
        "model.export(export_dir='.')"
      ],
      "metadata": {
        "id": "S2YPIXUf52kP"
      },
      "execution_count": 14,
      "outputs": []
    },
    {
      "cell_type": "code",
      "source": [
        "model.evaluate_tflite('model.tflite', test_data)"
      ],
      "metadata": {
        "colab": {
          "base_uri": "https://localhost:8080/"
        },
        "id": "vLy-NMUh7am1",
        "outputId": "67196a31-502d-4709-a3f7-8803eb7768c0"
      },
      "execution_count": 15,
      "outputs": [
        {
          "output_type": "stream",
          "name": "stdout",
          "text": [
            "25/25 [==============================] - 240s 10s/step\n",
            "\n"
          ]
        },
        {
          "output_type": "execute_result",
          "data": {
            "text/plain": [
              "{'AP': 0.18393795,\n",
              " 'AP50': 0.2977269,\n",
              " 'AP75': 0.20739692,\n",
              " 'APs': -1.0,\n",
              " 'APm': 0.25115773,\n",
              " 'APl': 0.18478256,\n",
              " 'ARmax1': 0.13792892,\n",
              " 'ARmax10': 0.2545488,\n",
              " 'ARmax100': 0.26349488,\n",
              " 'ARs': -1.0,\n",
              " 'ARm': 0.48333332,\n",
              " 'ARl': 0.25957575,\n",
              " 'AP_/Baked Goods': 0.005040504,\n",
              " 'AP_/Salad': 0.5115467,\n",
              " 'AP_/Cheese': 0.20079385,\n",
              " 'AP_/Seafood': 0.0,\n",
              " 'AP_/Tomato': 0.20230876}"
            ]
          },
          "metadata": {},
          "execution_count": 15
        }
      ]
    },
    {
      "cell_type": "markdown",
      "source": [
        "# New section"
      ],
      "metadata": {
        "id": "_1PX1ek69PEL"
      }
    }
  ]
}